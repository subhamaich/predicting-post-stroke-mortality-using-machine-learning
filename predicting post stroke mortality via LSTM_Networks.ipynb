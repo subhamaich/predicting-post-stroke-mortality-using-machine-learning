{
  "nbformat": 4,
  "nbformat_minor": 0,
  "metadata": {
    "colab": {
      "name": "LSTM Networks.ipynb",
      "provenance": [],
      "collapsed_sections": []
    },
    "kernelspec": {
      "name": "python3",
      "display_name": "Python 3"
    },
    "accelerator": "GPU"
  },
  "cells": [
    {
      "cell_type": "code",
      "metadata": {
        "id": "g4trB-I7rm4M",
        "colab": {
          "base_uri": "https://localhost:8080/",
          "height": 128
        },
        "outputId": "1543ef8c-4070-48b0-d67b-bac8c39ec225"
      },
      "source": [
        "from google.colab import drive\n",
        "drive.mount('/content/gdrive')"
      ],
      "execution_count": null,
      "outputs": [
        {
          "output_type": "stream",
          "text": [
            "Go to this URL in a browser: https://accounts.google.com/o/oauth2/auth?client_id=947318989803-6bn6qk8qdgf4n4g3pfee6491hc0brc4i.apps.googleusercontent.com&redirect_uri=urn%3aietf%3awg%3aoauth%3a2.0%3aoob&response_type=code&scope=email%20https%3a%2f%2fwww.googleapis.com%2fauth%2fdocs.test%20https%3a%2f%2fwww.googleapis.com%2fauth%2fdrive%20https%3a%2f%2fwww.googleapis.com%2fauth%2fdrive.photos.readonly%20https%3a%2f%2fwww.googleapis.com%2fauth%2fpeopleapi.readonly\n",
            "\n",
            "Enter your authorization code:\n",
            "··········\n",
            "Mounted at /content/gdrive\n"
          ],
          "name": "stdout"
        }
      ]
    },
    {
      "cell_type": "code",
      "metadata": {
        "id": "azQ1NZJYr_m0",
        "colab": {
          "base_uri": "https://localhost:8080/",
          "height": 35
        },
        "outputId": "0302edc5-d60b-4052-d9e9-309f43a819e3"
      },
      "source": [
        "%cd gdrive/My Drive/project"
      ],
      "execution_count": null,
      "outputs": [
        {
          "output_type": "stream",
          "text": [
            "/content/gdrive/My Drive/project\n"
          ],
          "name": "stdout"
        }
      ]
    },
    {
      "cell_type": "code",
      "metadata": {
        "id": "a8ZkHXAesmC6",
        "colab": {
          "base_uri": "https://localhost:8080/",
          "height": 35
        },
        "outputId": "2b0c62c0-9e3d-4f6f-82f9-431cb6b2cb26"
      },
      "source": [
        "!ls"
      ],
      "execution_count": null,
      "outputs": [
        {
          "output_type": "stream",
          "text": [
            "IST_corrected_preprocessed_all.csv  Untitled0.ipynb\n"
          ],
          "name": "stdout"
        }
      ]
    },
    {
      "cell_type": "code",
      "metadata": {
        "id": "yqtgLgkXsnWx",
        "colab": {
          "base_uri": "https://localhost:8080/",
          "height": 83
        },
        "outputId": "916eda1c-396f-4d8e-b4b5-9e451e80b974"
      },
      "source": [
        "import numpy as np\n",
        "import pandas as pd\n",
        "import matplotlib.pyplot as plt\n",
        "from keras.models import Sequential\n",
        "from keras.layers.core import Dense,Activation,Dropout\n",
        "from keras.layers import LSTM\n",
        "from sklearn.preprocessing import StandardScaler\n",
        "from sklearn.model_selection import train_test_split\n",
        "import seaborn as sns\n",
        "from sklearn.ensemble import RandomForestClassifier\n",
        "from sklearn import svm\n",
        "from sklearn.neural_network import MLPClassifier\n",
        "from sklearn.metrics import accuracy_score\n",
        "from sklearn.tree import DecisionTreeClassifier\n",
        "\n",
        "\n",
        "from keras.callbacks import EarlyStopping\n",
        "import math"
      ],
      "execution_count": null,
      "outputs": [
        {
          "output_type": "stream",
          "text": [
            "Using TensorFlow backend.\n"
          ],
          "name": "stderr"
        },
        {
          "output_type": "display_data",
          "data": {
            "text/html": [
              "<p style=\"color: red;\">\n",
              "The default version of TensorFlow in Colab will soon switch to TensorFlow 2.x.<br>\n",
              "We recommend you <a href=\"https://www.tensorflow.org/guide/migrate\" target=\"_blank\">upgrade</a> now \n",
              "or ensure your notebook will continue to use TensorFlow 1.x via the <code>%tensorflow_version 1.x</code> magic:\n",
              "<a href=\"https://colab.research.google.com/notebooks/tensorflow_version.ipynb\" target=\"_blank\">more info</a>.</p>\n"
            ],
            "text/plain": [
              "<IPython.core.display.HTML object>"
            ]
          },
          "metadata": {
            "tags": []
          }
        }
      ]
    },
    {
      "cell_type": "code",
      "metadata": {
        "id": "auhsI1Ihsy_F",
        "colab": {
          "base_uri": "https://localhost:8080/",
          "height": 143
        },
        "outputId": "c5ebda3c-a1f0-4e1e-9189-03083c19d1df"
      },
      "source": [
        "df = pd.read_csv('/content/gdrive/My Drive/project/IST_corrected_preprocessed_all.csv')\n",
        "df.head(3)"
      ],
      "execution_count": null,
      "outputs": [
        {
          "output_type": "execute_result",
          "data": {
            "text/html": [
              "<div>\n",
              "<style scoped>\n",
              "    .dataframe tbody tr th:only-of-type {\n",
              "        vertical-align: middle;\n",
              "    }\n",
              "\n",
              "    .dataframe tbody tr th {\n",
              "        vertical-align: top;\n",
              "    }\n",
              "\n",
              "    .dataframe thead th {\n",
              "        text-align: right;\n",
              "    }\n",
              "</style>\n",
              "<table border=\"1\" class=\"dataframe\">\n",
              "  <thead>\n",
              "    <tr style=\"text-align: right;\">\n",
              "      <th></th>\n",
              "      <th>SEX</th>\n",
              "      <th>AGE</th>\n",
              "      <th>RATRIAL</th>\n",
              "      <th>RVISI00</th>\n",
              "      <th>RASP3</th>\n",
              "      <th>RSBP</th>\n",
              "      <th>RDE01</th>\n",
              "      <th>RDE02</th>\n",
              "      <th>RDE03</th>\n",
              "      <th>RDE04</th>\n",
              "      <th>RDE05</th>\n",
              "      <th>RDE06</th>\n",
              "      <th>RDE07</th>\n",
              "      <th>RDE08</th>\n",
              "      <th>TARGET</th>\n",
              "    </tr>\n",
              "  </thead>\n",
              "  <tbody>\n",
              "    <tr>\n",
              "      <th>0</th>\n",
              "      <td>1</td>\n",
              "      <td>1</td>\n",
              "      <td>1.0</td>\n",
              "      <td>0</td>\n",
              "      <td>0.0</td>\n",
              "      <td>-1</td>\n",
              "      <td>1</td>\n",
              "      <td>1</td>\n",
              "      <td>1</td>\n",
              "      <td>1</td>\n",
              "      <td>0</td>\n",
              "      <td>0</td>\n",
              "      <td>0</td>\n",
              "      <td>1</td>\n",
              "      <td>Coronary heart disease</td>\n",
              "    </tr>\n",
              "    <tr>\n",
              "      <th>1</th>\n",
              "      <td>1</td>\n",
              "      <td>1</td>\n",
              "      <td>0.0</td>\n",
              "      <td>1</td>\n",
              "      <td>0.0</td>\n",
              "      <td>-1</td>\n",
              "      <td>1</td>\n",
              "      <td>1</td>\n",
              "      <td>1</td>\n",
              "      <td>1</td>\n",
              "      <td>0</td>\n",
              "      <td>0</td>\n",
              "      <td>0</td>\n",
              "      <td>0</td>\n",
              "      <td>Coronary heart disease</td>\n",
              "    </tr>\n",
              "    <tr>\n",
              "      <th>2</th>\n",
              "      <td>1</td>\n",
              "      <td>1</td>\n",
              "      <td>0.0</td>\n",
              "      <td>0</td>\n",
              "      <td>1.0</td>\n",
              "      <td>-1</td>\n",
              "      <td>1</td>\n",
              "      <td>1</td>\n",
              "      <td>1</td>\n",
              "      <td>0</td>\n",
              "      <td>1</td>\n",
              "      <td>1</td>\n",
              "      <td>0</td>\n",
              "      <td>0</td>\n",
              "      <td>Coronary heart disease</td>\n",
              "    </tr>\n",
              "  </tbody>\n",
              "</table>\n",
              "</div>"
            ],
            "text/plain": [
              "   SEX  AGE  RATRIAL  RVISI00  ...  RDE06  RDE07  RDE08                  TARGET\n",
              "0    1    1      1.0        0  ...      0      0      1  Coronary heart disease\n",
              "1    1    1      0.0        1  ...      0      0      0  Coronary heart disease\n",
              "2    1    1      0.0        0  ...      1      0      0  Coronary heart disease\n",
              "\n",
              "[3 rows x 15 columns]"
            ]
          },
          "metadata": {
            "tags": []
          },
          "execution_count": 5
        }
      ]
    },
    {
      "cell_type": "code",
      "metadata": {
        "id": "T_pItcbCtFIJ"
      },
      "source": [
        "df = df.dropna()"
      ],
      "execution_count": null,
      "outputs": []
    },
    {
      "cell_type": "code",
      "metadata": {
        "id": "ZBJusNkxtJSj",
        "colab": {
          "base_uri": "https://localhost:8080/",
          "height": 308
        },
        "outputId": "48162491-56a9-4672-ee91-13167db81e9f"
      },
      "source": [
        "df.isnull().sum()"
      ],
      "execution_count": null,
      "outputs": [
        {
          "output_type": "execute_result",
          "data": {
            "text/plain": [
              "SEX        0\n",
              "AGE        0\n",
              "RATRIAL    0\n",
              "RVISI00    0\n",
              "RASP3      0\n",
              "RSBP       0\n",
              "RDE01      0\n",
              "RDE02      0\n",
              "RDE03      0\n",
              "RDE04      0\n",
              "RDE05      0\n",
              "RDE06      0\n",
              "RDE07      0\n",
              "RDE08      0\n",
              "TARGET     0\n",
              "dtype: int64"
            ]
          },
          "metadata": {
            "tags": []
          },
          "execution_count": 7
        }
      ]
    },
    {
      "cell_type": "code",
      "metadata": {
        "id": "bamXHQnttLI7",
        "colab": {
          "base_uri": "https://localhost:8080/",
          "height": 126
        },
        "outputId": "1edc96ab-fd69-4ac9-bad4-a21e16a93300"
      },
      "source": [
        "newlabeldf=df['TARGET'].replace({ 'Alive': 0,'Initial stroke': 1, 'Reccurent ischaemic': 1 ,'Reccurent haemorrhagic stroke': 1, 'Pneumonia': 1, 'Coronary heart disease': 1, 'Pulmonary embolism': 1, 'Other vascular': 1,'Non vascular': 1})\n",
        "df['TARGET'] = newlabeldf\n",
        "#df['target'] = newlabeldf\n",
        "print(df['TARGET'].head())"
      ],
      "execution_count": null,
      "outputs": [
        {
          "output_type": "stream",
          "text": [
            "0    1\n",
            "1    1\n",
            "2    1\n",
            "3    1\n",
            "4    1\n",
            "Name: TARGET, dtype: int64\n"
          ],
          "name": "stdout"
        }
      ]
    },
    {
      "cell_type": "code",
      "metadata": {
        "id": "ZIPmKGR5tNlW",
        "colab": {
          "base_uri": "https://localhost:8080/",
          "height": 520
        },
        "outputId": "6228c2ac-8371-4c7f-e111-e2de80e72559"
      },
      "source": [
        "df.corr()"
      ],
      "execution_count": null,
      "outputs": [
        {
          "output_type": "execute_result",
          "data": {
            "text/html": [
              "<div>\n",
              "<style scoped>\n",
              "    .dataframe tbody tr th:only-of-type {\n",
              "        vertical-align: middle;\n",
              "    }\n",
              "\n",
              "    .dataframe tbody tr th {\n",
              "        vertical-align: top;\n",
              "    }\n",
              "\n",
              "    .dataframe thead th {\n",
              "        text-align: right;\n",
              "    }\n",
              "</style>\n",
              "<table border=\"1\" class=\"dataframe\">\n",
              "  <thead>\n",
              "    <tr style=\"text-align: right;\">\n",
              "      <th></th>\n",
              "      <th>SEX</th>\n",
              "      <th>AGE</th>\n",
              "      <th>RATRIAL</th>\n",
              "      <th>RVISI00</th>\n",
              "      <th>RASP3</th>\n",
              "      <th>RSBP</th>\n",
              "      <th>RDE01</th>\n",
              "      <th>RDE02</th>\n",
              "      <th>RDE03</th>\n",
              "      <th>RDE04</th>\n",
              "      <th>RDE05</th>\n",
              "      <th>RDE06</th>\n",
              "      <th>RDE07</th>\n",
              "      <th>RDE08</th>\n",
              "      <th>TARGET</th>\n",
              "    </tr>\n",
              "  </thead>\n",
              "  <tbody>\n",
              "    <tr>\n",
              "      <th>SEX</th>\n",
              "      <td>1.000000</td>\n",
              "      <td>-0.146593</td>\n",
              "      <td>-0.086873</td>\n",
              "      <td>-0.011970</td>\n",
              "      <td>-0.010189</td>\n",
              "      <td>-0.031780</td>\n",
              "      <td>-0.026715</td>\n",
              "      <td>-0.041945</td>\n",
              "      <td>-0.031589</td>\n",
              "      <td>-0.018607</td>\n",
              "      <td>0.020980</td>\n",
              "      <td>0.034085</td>\n",
              "      <td>0.021334</td>\n",
              "      <td>0.065455</td>\n",
              "      <td>-0.062118</td>\n",
              "    </tr>\n",
              "    <tr>\n",
              "      <th>AGE</th>\n",
              "      <td>-0.146593</td>\n",
              "      <td>1.000000</td>\n",
              "      <td>0.160340</td>\n",
              "      <td>-0.037226</td>\n",
              "      <td>0.055227</td>\n",
              "      <td>0.058363</td>\n",
              "      <td>0.071827</td>\n",
              "      <td>-0.015759</td>\n",
              "      <td>-0.005760</td>\n",
              "      <td>-0.012455</td>\n",
              "      <td>-0.005780</td>\n",
              "      <td>-0.032051</td>\n",
              "      <td>-0.029284</td>\n",
              "      <td>-0.062651</td>\n",
              "      <td>0.079232</td>\n",
              "    </tr>\n",
              "    <tr>\n",
              "      <th>RATRIAL</th>\n",
              "      <td>-0.086873</td>\n",
              "      <td>0.160340</td>\n",
              "      <td>1.000000</td>\n",
              "      <td>0.027282</td>\n",
              "      <td>0.072980</td>\n",
              "      <td>-0.056891</td>\n",
              "      <td>0.114215</td>\n",
              "      <td>0.056810</td>\n",
              "      <td>-0.000005</td>\n",
              "      <td>-0.046131</td>\n",
              "      <td>-0.040691</td>\n",
              "      <td>-0.032005</td>\n",
              "      <td>-0.016725</td>\n",
              "      <td>-0.066933</td>\n",
              "      <td>0.185707</td>\n",
              "    </tr>\n",
              "    <tr>\n",
              "      <th>RVISI00</th>\n",
              "      <td>-0.011970</td>\n",
              "      <td>-0.037226</td>\n",
              "      <td>0.027282</td>\n",
              "      <td>1.000000</td>\n",
              "      <td>0.018242</td>\n",
              "      <td>-0.028860</td>\n",
              "      <td>0.036463</td>\n",
              "      <td>0.040108</td>\n",
              "      <td>-0.000795</td>\n",
              "      <td>-0.020191</td>\n",
              "      <td>-0.007788</td>\n",
              "      <td>0.007257</td>\n",
              "      <td>-0.014024</td>\n",
              "      <td>-0.044644</td>\n",
              "      <td>0.063928</td>\n",
              "    </tr>\n",
              "    <tr>\n",
              "      <th>RASP3</th>\n",
              "      <td>-0.010189</td>\n",
              "      <td>0.055227</td>\n",
              "      <td>0.072980</td>\n",
              "      <td>0.018242</td>\n",
              "      <td>1.000000</td>\n",
              "      <td>-0.075995</td>\n",
              "      <td>0.147744</td>\n",
              "      <td>0.070412</td>\n",
              "      <td>0.009765</td>\n",
              "      <td>-0.040489</td>\n",
              "      <td>-0.108258</td>\n",
              "      <td>0.001515</td>\n",
              "      <td>-0.020812</td>\n",
              "      <td>-0.033702</td>\n",
              "      <td>0.319740</td>\n",
              "    </tr>\n",
              "    <tr>\n",
              "      <th>RSBP</th>\n",
              "      <td>-0.031780</td>\n",
              "      <td>0.058363</td>\n",
              "      <td>-0.056891</td>\n",
              "      <td>-0.028860</td>\n",
              "      <td>-0.075995</td>\n",
              "      <td>1.000000</td>\n",
              "      <td>-0.113837</td>\n",
              "      <td>-0.046060</td>\n",
              "      <td>0.010166</td>\n",
              "      <td>0.047156</td>\n",
              "      <td>0.089988</td>\n",
              "      <td>0.008253</td>\n",
              "      <td>0.015494</td>\n",
              "      <td>0.035545</td>\n",
              "      <td>-0.246017</td>\n",
              "    </tr>\n",
              "    <tr>\n",
              "      <th>RDE01</th>\n",
              "      <td>-0.026715</td>\n",
              "      <td>0.071827</td>\n",
              "      <td>0.114215</td>\n",
              "      <td>0.036463</td>\n",
              "      <td>0.147744</td>\n",
              "      <td>-0.113837</td>\n",
              "      <td>1.000000</td>\n",
              "      <td>0.125598</td>\n",
              "      <td>0.050594</td>\n",
              "      <td>-0.075619</td>\n",
              "      <td>-0.159763</td>\n",
              "      <td>-0.016912</td>\n",
              "      <td>-0.034087</td>\n",
              "      <td>-0.049516</td>\n",
              "      <td>0.489794</td>\n",
              "    </tr>\n",
              "    <tr>\n",
              "      <th>RDE02</th>\n",
              "      <td>-0.041945</td>\n",
              "      <td>-0.015759</td>\n",
              "      <td>0.056810</td>\n",
              "      <td>0.040108</td>\n",
              "      <td>0.070412</td>\n",
              "      <td>-0.046060</td>\n",
              "      <td>0.125598</td>\n",
              "      <td>1.000000</td>\n",
              "      <td>0.361399</td>\n",
              "      <td>0.155995</td>\n",
              "      <td>-0.000806</td>\n",
              "      <td>0.021256</td>\n",
              "      <td>-0.003585</td>\n",
              "      <td>-0.131036</td>\n",
              "      <td>0.195398</td>\n",
              "    </tr>\n",
              "    <tr>\n",
              "      <th>RDE03</th>\n",
              "      <td>-0.031589</td>\n",
              "      <td>-0.005760</td>\n",
              "      <td>-0.000005</td>\n",
              "      <td>-0.000795</td>\n",
              "      <td>0.009765</td>\n",
              "      <td>0.010166</td>\n",
              "      <td>0.050594</td>\n",
              "      <td>0.361399</td>\n",
              "      <td>1.000000</td>\n",
              "      <td>0.419927</td>\n",
              "      <td>-0.024164</td>\n",
              "      <td>0.026256</td>\n",
              "      <td>0.006300</td>\n",
              "      <td>-0.153260</td>\n",
              "      <td>-0.003081</td>\n",
              "    </tr>\n",
              "    <tr>\n",
              "      <th>RDE04</th>\n",
              "      <td>-0.018607</td>\n",
              "      <td>-0.012455</td>\n",
              "      <td>-0.046131</td>\n",
              "      <td>-0.020191</td>\n",
              "      <td>-0.040489</td>\n",
              "      <td>0.047156</td>\n",
              "      <td>-0.075619</td>\n",
              "      <td>0.155995</td>\n",
              "      <td>0.419927</td>\n",
              "      <td>1.000000</td>\n",
              "      <td>0.051975</td>\n",
              "      <td>0.038557</td>\n",
              "      <td>0.029216</td>\n",
              "      <td>-0.084697</td>\n",
              "      <td>-0.193938</td>\n",
              "    </tr>\n",
              "    <tr>\n",
              "      <th>RDE05</th>\n",
              "      <td>0.020980</td>\n",
              "      <td>-0.005780</td>\n",
              "      <td>-0.040691</td>\n",
              "      <td>-0.007788</td>\n",
              "      <td>-0.108258</td>\n",
              "      <td>0.089988</td>\n",
              "      <td>-0.159763</td>\n",
              "      <td>-0.000806</td>\n",
              "      <td>-0.024164</td>\n",
              "      <td>0.051975</td>\n",
              "      <td>1.000000</td>\n",
              "      <td>0.111392</td>\n",
              "      <td>-0.011783</td>\n",
              "      <td>-0.000990</td>\n",
              "      <td>-0.379299</td>\n",
              "    </tr>\n",
              "    <tr>\n",
              "      <th>RDE06</th>\n",
              "      <td>0.034085</td>\n",
              "      <td>-0.032051</td>\n",
              "      <td>-0.032005</td>\n",
              "      <td>0.007257</td>\n",
              "      <td>0.001515</td>\n",
              "      <td>0.008253</td>\n",
              "      <td>-0.016912</td>\n",
              "      <td>0.021256</td>\n",
              "      <td>0.026256</td>\n",
              "      <td>0.038557</td>\n",
              "      <td>0.111392</td>\n",
              "      <td>1.000000</td>\n",
              "      <td>0.291245</td>\n",
              "      <td>0.142809</td>\n",
              "      <td>-0.072672</td>\n",
              "    </tr>\n",
              "    <tr>\n",
              "      <th>RDE07</th>\n",
              "      <td>0.021334</td>\n",
              "      <td>-0.029284</td>\n",
              "      <td>-0.016725</td>\n",
              "      <td>-0.014024</td>\n",
              "      <td>-0.020812</td>\n",
              "      <td>0.015494</td>\n",
              "      <td>-0.034087</td>\n",
              "      <td>-0.003585</td>\n",
              "      <td>0.006300</td>\n",
              "      <td>0.029216</td>\n",
              "      <td>-0.011783</td>\n",
              "      <td>0.291245</td>\n",
              "      <td>1.000000</td>\n",
              "      <td>0.178321</td>\n",
              "      <td>-0.069454</td>\n",
              "    </tr>\n",
              "    <tr>\n",
              "      <th>RDE08</th>\n",
              "      <td>0.065455</td>\n",
              "      <td>-0.062651</td>\n",
              "      <td>-0.066933</td>\n",
              "      <td>-0.044644</td>\n",
              "      <td>-0.033702</td>\n",
              "      <td>0.035545</td>\n",
              "      <td>-0.049516</td>\n",
              "      <td>-0.131036</td>\n",
              "      <td>-0.153260</td>\n",
              "      <td>-0.084697</td>\n",
              "      <td>-0.000990</td>\n",
              "      <td>0.142809</td>\n",
              "      <td>0.178321</td>\n",
              "      <td>1.000000</td>\n",
              "      <td>-0.113189</td>\n",
              "    </tr>\n",
              "    <tr>\n",
              "      <th>TARGET</th>\n",
              "      <td>-0.062118</td>\n",
              "      <td>0.079232</td>\n",
              "      <td>0.185707</td>\n",
              "      <td>0.063928</td>\n",
              "      <td>0.319740</td>\n",
              "      <td>-0.246017</td>\n",
              "      <td>0.489794</td>\n",
              "      <td>0.195398</td>\n",
              "      <td>-0.003081</td>\n",
              "      <td>-0.193938</td>\n",
              "      <td>-0.379299</td>\n",
              "      <td>-0.072672</td>\n",
              "      <td>-0.069454</td>\n",
              "      <td>-0.113189</td>\n",
              "      <td>1.000000</td>\n",
              "    </tr>\n",
              "  </tbody>\n",
              "</table>\n",
              "</div>"
            ],
            "text/plain": [
              "              SEX       AGE   RATRIAL  ...     RDE07     RDE08    TARGET\n",
              "SEX      1.000000 -0.146593 -0.086873  ...  0.021334  0.065455 -0.062118\n",
              "AGE     -0.146593  1.000000  0.160340  ... -0.029284 -0.062651  0.079232\n",
              "RATRIAL -0.086873  0.160340  1.000000  ... -0.016725 -0.066933  0.185707\n",
              "RVISI00 -0.011970 -0.037226  0.027282  ... -0.014024 -0.044644  0.063928\n",
              "RASP3   -0.010189  0.055227  0.072980  ... -0.020812 -0.033702  0.319740\n",
              "RSBP    -0.031780  0.058363 -0.056891  ...  0.015494  0.035545 -0.246017\n",
              "RDE01   -0.026715  0.071827  0.114215  ... -0.034087 -0.049516  0.489794\n",
              "RDE02   -0.041945 -0.015759  0.056810  ... -0.003585 -0.131036  0.195398\n",
              "RDE03   -0.031589 -0.005760 -0.000005  ...  0.006300 -0.153260 -0.003081\n",
              "RDE04   -0.018607 -0.012455 -0.046131  ...  0.029216 -0.084697 -0.193938\n",
              "RDE05    0.020980 -0.005780 -0.040691  ... -0.011783 -0.000990 -0.379299\n",
              "RDE06    0.034085 -0.032051 -0.032005  ...  0.291245  0.142809 -0.072672\n",
              "RDE07    0.021334 -0.029284 -0.016725  ...  1.000000  0.178321 -0.069454\n",
              "RDE08    0.065455 -0.062651 -0.066933  ...  0.178321  1.000000 -0.113189\n",
              "TARGET  -0.062118  0.079232  0.185707  ... -0.069454 -0.113189  1.000000\n",
              "\n",
              "[15 rows x 15 columns]"
            ]
          },
          "metadata": {
            "tags": []
          },
          "execution_count": 9
        }
      ]
    },
    {
      "cell_type": "code",
      "metadata": {
        "id": "pFOcZT6WtPhW",
        "colab": {
          "base_uri": "https://localhost:8080/",
          "height": 885
        },
        "outputId": "f6518ead-7090-471a-e1fb-a7a4a0a8c074"
      },
      "source": [
        "fig, ax = plt.subplots(figsize=(15,15))\n",
        "sns.heatmap(df.corr(),annot=True, linewidths=.5,ax=ax)"
      ],
      "execution_count": null,
      "outputs": [
        {
          "output_type": "execute_result",
          "data": {
            "text/plain": [
              "<matplotlib.axes._subplots.AxesSubplot at 0x7ff133421518>"
            ]
          },
          "metadata": {
            "tags": []
          },
          "execution_count": 10
        },
        {
          "output_type": "display_data",
          "data": {
            "image/png": "[encoded data removed]",
            "text/plain": [
              "<Figure size 1080x1080 with 2 Axes>"
            ]
          },
          "metadata": {
            "tags": []
          }
        }
      ]
    },
    {
      "cell_type": "code",
      "metadata": {
        "id": "7tDJXtvjtR0W",
        "colab": {
          "base_uri": "https://localhost:8080/",
          "height": 206
        },
        "outputId": "4942b2b1-41d7-4d64-89cf-ea37cbc53467"
      },
      "source": [
        "#create a dataframe with all training data except the target column\n",
        "X = df.drop(columns=[\"TARGET\"])\n",
        "#check that the target variable has been removed\n",
        "X.head()"
      ],
      "execution_count": null,
      "outputs": [
        {
          "output_type": "execute_result",
          "data": {
            "text/html": [
              "<div>\n",
              "<style scoped>\n",
              "    .dataframe tbody tr th:only-of-type {\n",
              "        vertical-align: middle;\n",
              "    }\n",
              "\n",
              "    .dataframe tbody tr th {\n",
              "        vertical-align: top;\n",
              "    }\n",
              "\n",
              "    .dataframe thead th {\n",
              "        text-align: right;\n",
              "    }\n",
              "</style>\n",
              "<table border=\"1\" class=\"dataframe\">\n",
              "  <thead>\n",
              "    <tr style=\"text-align: right;\">\n",
              "      <th></th>\n",
              "      <th>SEX</th>\n",
              "      <th>AGE</th>\n",
              "      <th>RATRIAL</th>\n",
              "      <th>RVISI00</th>\n",
              "      <th>RASP3</th>\n",
              "      <th>RSBP</th>\n",
              "      <th>RDE01</th>\n",
              "      <th>RDE02</th>\n",
              "      <th>RDE03</th>\n",
              "      <th>RDE04</th>\n",
              "      <th>RDE05</th>\n",
              "      <th>RDE06</th>\n",
              "      <th>RDE07</th>\n",
              "      <th>RDE08</th>\n",
              "    </tr>\n",
              "  </thead>\n",
              "  <tbody>\n",
              "    <tr>\n",
              "      <th>0</th>\n",
              "      <td>1</td>\n",
              "      <td>1</td>\n",
              "      <td>1.0</td>\n",
              "      <td>0</td>\n",
              "      <td>0.0</td>\n",
              "      <td>-1</td>\n",
              "      <td>1</td>\n",
              "      <td>1</td>\n",
              "      <td>1</td>\n",
              "      <td>1</td>\n",
              "      <td>0</td>\n",
              "      <td>0</td>\n",
              "      <td>0</td>\n",
              "      <td>1</td>\n",
              "    </tr>\n",
              "    <tr>\n",
              "      <th>1</th>\n",
              "      <td>1</td>\n",
              "      <td>1</td>\n",
              "      <td>0.0</td>\n",
              "      <td>1</td>\n",
              "      <td>0.0</td>\n",
              "      <td>-1</td>\n",
              "      <td>1</td>\n",
              "      <td>1</td>\n",
              "      <td>1</td>\n",
              "      <td>1</td>\n",
              "      <td>0</td>\n",
              "      <td>0</td>\n",
              "      <td>0</td>\n",
              "      <td>0</td>\n",
              "    </tr>\n",
              "    <tr>\n",
              "      <th>2</th>\n",
              "      <td>1</td>\n",
              "      <td>1</td>\n",
              "      <td>0.0</td>\n",
              "      <td>0</td>\n",
              "      <td>1.0</td>\n",
              "      <td>-1</td>\n",
              "      <td>1</td>\n",
              "      <td>1</td>\n",
              "      <td>1</td>\n",
              "      <td>0</td>\n",
              "      <td>1</td>\n",
              "      <td>1</td>\n",
              "      <td>0</td>\n",
              "      <td>0</td>\n",
              "    </tr>\n",
              "    <tr>\n",
              "      <th>3</th>\n",
              "      <td>0</td>\n",
              "      <td>1</td>\n",
              "      <td>0.0</td>\n",
              "      <td>1</td>\n",
              "      <td>0.0</td>\n",
              "      <td>-1</td>\n",
              "      <td>1</td>\n",
              "      <td>1</td>\n",
              "      <td>1</td>\n",
              "      <td>1</td>\n",
              "      <td>1</td>\n",
              "      <td>1</td>\n",
              "      <td>0</td>\n",
              "      <td>0</td>\n",
              "    </tr>\n",
              "    <tr>\n",
              "      <th>4</th>\n",
              "      <td>1</td>\n",
              "      <td>1</td>\n",
              "      <td>0.0</td>\n",
              "      <td>0</td>\n",
              "      <td>0.0</td>\n",
              "      <td>-1</td>\n",
              "      <td>1</td>\n",
              "      <td>1</td>\n",
              "      <td>1</td>\n",
              "      <td>1</td>\n",
              "      <td>-1</td>\n",
              "      <td>-1</td>\n",
              "      <td>0</td>\n",
              "      <td>0</td>\n",
              "    </tr>\n",
              "  </tbody>\n",
              "</table>\n",
              "</div>"
            ],
            "text/plain": [
              "   SEX  AGE  RATRIAL  RVISI00  RASP3  ...  RDE04  RDE05  RDE06  RDE07  RDE08\n",
              "0    1    1      1.0        0    0.0  ...      1      0      0      0      1\n",
              "1    1    1      0.0        1    0.0  ...      1      0      0      0      0\n",
              "2    1    1      0.0        0    1.0  ...      0      1      1      0      0\n",
              "3    0    1      0.0        1    0.0  ...      1      1      1      0      0\n",
              "4    1    1      0.0        0    0.0  ...      1     -1     -1      0      0\n",
              "\n",
              "[5 rows x 14 columns]"
            ]
          },
          "metadata": {
            "tags": []
          },
          "execution_count": 11
        }
      ]
    },
    {
      "cell_type": "code",
      "metadata": {
        "id": "9U9hls-dtUTr",
        "colab": {
          "base_uri": "https://localhost:8080/",
          "height": 35
        },
        "outputId": "e4382595-575d-4df6-b8f7-a729a9b70b39"
      },
      "source": [
        "#separate target values\n",
        "y = df[\"TARGET\"].values\n",
        "#view target values\n",
        "y[0:5]"
      ],
      "execution_count": null,
      "outputs": [
        {
          "output_type": "execute_result",
          "data": {
            "text/plain": [
              "array([1, 1, 1, 1, 1])"
            ]
          },
          "metadata": {
            "tags": []
          },
          "execution_count": 12
        }
      ]
    },
    {
      "cell_type": "code",
      "metadata": {
        "id": "fwZMz6natWxt"
      },
      "source": [
        "#Splitting into train and test dataset\n",
        "from sklearn.model_selection import train_test_split\n",
        "#split dataset into train and test data\n",
        "X_train, X_test, y_train, y_test = train_test_split(X, y, test_size=0.2, random_state=1, stratify=y)"
      ],
      "execution_count": null,
      "outputs": []
    },
    {
      "cell_type": "code",
      "metadata": {
        "id": "R736C-QStZAa"
      },
      "source": [
        "label=df['TARGET']"
      ],
      "execution_count": null,
      "outputs": []
    },
    {
      "cell_type": "code",
      "metadata": {
        "id": "fQku0O3GtbEq",
        "colab": {
          "base_uri": "https://localhost:8080/",
          "height": 297
        },
        "outputId": "0a33212b-ba14-4f9a-864a-66258d14c9dd"
      },
      "source": [
        "sns.countplot(label)"
      ],
      "execution_count": null,
      "outputs": [
        {
          "output_type": "execute_result",
          "data": {
            "text/plain": [
              "<matplotlib.axes._subplots.AxesSubplot at 0x7ff12f833780>"
            ]
          },
          "metadata": {
            "tags": []
          },
          "execution_count": 15
        },
        {
          "output_type": "display_data",
          "data": {
            "image/png": "[encoded data removed]",
            "text/plain": [
              "<Figure size 432x288 with 1 Axes>"
            ]
          },
          "metadata": {
            "tags": []
          }
        }
      ]
    },
    {
      "cell_type": "code",
      "metadata": {
        "id": "OHN18bCitcv7",
        "colab": {
          "base_uri": "https://localhost:8080/",
          "height": 35
        },
        "outputId": "ac5cabb1-00c5-4b4c-c3b0-7f409d0b1d36"
      },
      "source": [
        "X_train.shape"
      ],
      "execution_count": null,
      "outputs": [
        {
          "output_type": "execute_result",
          "data": {
            "text/plain": [
              "(14760, 14)"
            ]
          },
          "metadata": {
            "tags": []
          },
          "execution_count": 16
        }
      ]
    },
    {
      "cell_type": "code",
      "metadata": {
        "id": "n7eNDcBOte8A",
        "colab": {
          "base_uri": "https://localhost:8080/",
          "height": 35
        },
        "outputId": "850e5723-4d21-48b5-ea0a-928fe650061c"
      },
      "source": [
        "df.shape"
      ],
      "execution_count": null,
      "outputs": [
        {
          "output_type": "execute_result",
          "data": {
            "text/plain": [
              "(18451, 15)"
            ]
          },
          "metadata": {
            "tags": []
          },
          "execution_count": 17
        }
      ]
    },
    {
      "cell_type": "code",
      "metadata": {
        "id": "JG0iSwLStg19",
        "colab": {
          "base_uri": "https://localhost:8080/",
          "height": 35
        },
        "outputId": "f1dbbe01-8886-4db4-919c-165028b88618"
      },
      "source": [
        "X_test.shape"
      ],
      "execution_count": null,
      "outputs": [
        {
          "output_type": "execute_result",
          "data": {
            "text/plain": [
              "(3691, 14)"
            ]
          },
          "metadata": {
            "tags": []
          },
          "execution_count": 18
        }
      ]
    },
    {
      "cell_type": "code",
      "metadata": {
        "id": "ytWk-iXOtjAm",
        "colab": {
          "base_uri": "https://localhost:8080/",
          "height": 35
        },
        "outputId": "6848681b-fee7-42f5-c13a-5cbf29659b44"
      },
      "source": [
        "y_train.shape"
      ],
      "execution_count": null,
      "outputs": [
        {
          "output_type": "execute_result",
          "data": {
            "text/plain": [
              "(14760,)"
            ]
          },
          "metadata": {
            "tags": []
          },
          "execution_count": 19
        }
      ]
    },
    {
      "cell_type": "code",
      "metadata": {
        "id": "D9DoiRBstk3U",
        "colab": {
          "base_uri": "https://localhost:8080/",
          "height": 35
        },
        "outputId": "818c183f-88a4-4023-9b5d-b75cd2108f6a"
      },
      "source": [
        "y_test.shape"
      ],
      "execution_count": null,
      "outputs": [
        {
          "output_type": "execute_result",
          "data": {
            "text/plain": [
              "(3691,)"
            ]
          },
          "metadata": {
            "tags": []
          },
          "execution_count": 20
        }
      ]
    },
    {
      "cell_type": "code",
      "metadata": {
        "id": "641sgPPftmwc",
        "colab": {
          "base_uri": "https://localhost:8080/",
          "height": 73
        },
        "outputId": "597b1778-f9a0-4d5b-d1d3-ab4459dc8364"
      },
      "source": [
        "X_train=np.expand_dims(X_train, axis=2) \n",
        "y_train=np.expand_dims(y_train, axis=2)"
      ],
      "execution_count": null,
      "outputs": [
        {
          "output_type": "stream",
          "text": [
            "/usr/local/lib/python3.6/dist-packages/ipykernel_launcher.py:2: DeprecationWarning: Both axis > a.ndim and axis < -a.ndim - 1 are deprecated and will raise an AxisError in the future.\n",
            "  \n"
          ],
          "name": "stderr"
        }
      ]
    },
    {
      "cell_type": "code",
      "metadata": {
        "id": "kv2zpPb_to_e",
        "colab": {
          "base_uri": "https://localhost:8080/",
          "height": 35
        },
        "outputId": "523c0f5a-6cac-4a5e-9fc0-8d594b4213f5"
      },
      "source": [
        "X_train.shape"
      ],
      "execution_count": null,
      "outputs": [
        {
          "output_type": "execute_result",
          "data": {
            "text/plain": [
              "(14760, 14, 1)"
            ]
          },
          "metadata": {
            "tags": []
          },
          "execution_count": 22
        }
      ]
    },
    {
      "cell_type": "code",
      "metadata": {
        "id": "mIkL5krztr9m"
      },
      "source": [
        "es=EarlyStopping(patience=7)"
      ],
      "execution_count": null,
      "outputs": []
    },
    {
      "cell_type": "code",
      "metadata": {
        "id": "Cre1sN44tuIM",
        "colab": {
          "base_uri": "https://localhost:8080/",
          "height": 73
        },
        "outputId": "2a8f0a7a-4bb6-40b3-a856-c728fac267d2"
      },
      "source": [
        "model=Sequential()"
      ],
      "execution_count": null,
      "outputs": [
        {
          "output_type": "stream",
          "text": [
            "WARNING:tensorflow:From /usr/local/lib/python3.6/dist-packages/keras/backend/tensorflow_backend.py:66: The name tf.get_default_graph is deprecated. Please use tf.compat.v1.get_default_graph instead.\n",
            "\n"
          ],
          "name": "stdout"
        }
      ]
    },
    {
      "cell_type": "code",
      "metadata": {
        "id": "BkES3o-Ttv-b",
        "colab": {
          "base_uri": "https://localhost:8080/",
          "height": 146
        },
        "outputId": "1aebc1f1-cc1b-4ba5-d433-d01f38d62d4f"
      },
      "source": [
        "model.add(LSTM(14,input_shape=(14,1)))\n",
        "model.add(Dense(output_dim=1))\n",
        "model.add(Activation('sigmoid'))"
      ],
      "execution_count": null,
      "outputs": [
        {
          "output_type": "stream",
          "text": [
            "WARNING:tensorflow:From /usr/local/lib/python3.6/dist-packages/keras/backend/tensorflow_backend.py:541: The name tf.placeholder is deprecated. Please use tf.compat.v1.placeholder instead.\n",
            "\n",
            "WARNING:tensorflow:From /usr/local/lib/python3.6/dist-packages/keras/backend/tensorflow_backend.py:4432: The name tf.random_uniform is deprecated. Please use tf.random.uniform instead.\n",
            "\n"
          ],
          "name": "stdout"
        },
        {
          "output_type": "stream",
          "text": [
            "/usr/local/lib/python3.6/dist-packages/ipykernel_launcher.py:2: UserWarning: Update your `Dense` call to the Keras 2 API: `Dense(units=1)`\n",
            "  \n"
          ],
          "name": "stderr"
        }
      ]
    },
    {
      "cell_type": "code",
      "metadata": {
        "id": "NrTyArZntysO",
        "colab": {
          "base_uri": "https://localhost:8080/",
          "height": 164
        },
        "outputId": "c8320b99-55ff-49ca-cb16-d3005e35a2cc"
      },
      "source": [
        "model.compile(loss='binary_crossentropy',optimizer='Adam',metrics=['accuracy'])"
      ],
      "execution_count": null,
      "outputs": [
        {
          "output_type": "stream",
          "text": [
            "WARNING:tensorflow:From /usr/local/lib/python3.6/dist-packages/keras/optimizers.py:793: The name tf.train.Optimizer is deprecated. Please use tf.compat.v1.train.Optimizer instead.\n",
            "\n",
            "WARNING:tensorflow:From /usr/local/lib/python3.6/dist-packages/keras/backend/tensorflow_backend.py:3657: The name tf.log is deprecated. Please use tf.math.log instead.\n",
            "\n",
            "WARNING:tensorflow:From /usr/local/lib/python3.6/dist-packages/tensorflow_core/python/ops/nn_impl.py:183: where (from tensorflow.python.ops.array_ops) is deprecated and will be removed in a future version.\n",
            "Instructions for updating:\n",
            "Use tf.where in 2.0, which has the same broadcast rule as np.where\n"
          ],
          "name": "stdout"
        }
      ]
    },
    {
      "cell_type": "code",
      "metadata": {
        "id": "jI8IE3Qyt1-C",
        "colab": {
          "base_uri": "https://localhost:8080/",
          "height": 455
        },
        "outputId": "7800c948-eede-4c6f-9ec7-10516d62df35"
      },
      "source": [
        "model.fit(X_train,y_train,epochs=10,batch_size=1,verbose=1,callbacks=[es])"
      ],
      "execution_count": null,
      "outputs": [
        {
          "output_type": "stream",
          "text": [
            "Epoch 1/10\n",
            "14760/14760 [==============================] - 319s 22ms/step - loss: 0.1863 - acc: 0.9234\n",
            "Epoch 2/10\n",
            "    7/14760 [..............................] - ETA: 5:46 - loss: 0.4625 - acc: 0.8571"
          ],
          "name": "stdout"
        },
        {
          "output_type": "stream",
          "text": [
            "/usr/local/lib/python3.6/dist-packages/keras/callbacks.py:842: RuntimeWarning: Early stopping conditioned on metric `val_loss` which is not available. Available metrics are: loss,acc\n",
            "  (self.monitor, ','.join(list(logs.keys()))), RuntimeWarning\n"
          ],
          "name": "stderr"
        },
        {
          "output_type": "stream",
          "text": [
            "14760/14760 [==============================] - 315s 21ms/step - loss: 0.1759 - acc: 0.9253\n",
            "Epoch 3/10\n",
            "14760/14760 [==============================] - 313s 21ms/step - loss: 0.1680 - acc: 0.9308\n",
            "Epoch 4/10\n",
            "14760/14760 [==============================] - 313s 21ms/step - loss: 0.1612 - acc: 0.9344\n",
            "Epoch 5/10\n",
            "14760/14760 [==============================] - 312s 21ms/step - loss: 0.1562 - acc: 0.9342\n",
            "Epoch 6/10\n",
            "14760/14760 [==============================] - 312s 21ms/step - loss: 0.1487 - acc: 0.9390\n",
            "Epoch 7/10\n",
            "14760/14760 [==============================] - 313s 21ms/step - loss: 0.1426 - acc: 0.9419\n",
            "Epoch 8/10\n",
            "14760/14760 [==============================] - 309s 21ms/step - loss: 0.1411 - acc: 0.9422\n",
            "Epoch 9/10\n",
            "14760/14760 [==============================] - 311s 21ms/step - loss: 0.1387 - acc: 0.9418\n",
            "Epoch 10/10\n",
            "14760/14760 [==============================] - 309s 21ms/step - loss: 0.1330 - acc: 0.9431\n"
          ],
          "name": "stdout"
        },
        {
          "output_type": "execute_result",
          "data": {
            "text/plain": [
              "<keras.callbacks.History at 0x7ff0b6b01e48>"
            ]
          },
          "metadata": {
            "tags": []
          },
          "execution_count": 29
        }
      ]
    },
    {
      "cell_type": "code",
      "metadata": {
        "id": "xA9aFyWi83tc",
        "colab": {
          "base_uri": "https://localhost:8080/",
          "height": 73
        },
        "outputId": "a3712c1f-99b6-4bf7-f6ec-229ea2070132"
      },
      "source": [
        "X_test=np.expand_dims(X_test, axis=2) \n",
        "y_test=np.expand_dims(y_test, axis=2)"
      ],
      "execution_count": null,
      "outputs": [
        {
          "output_type": "stream",
          "text": [
            "/usr/local/lib/python3.6/dist-packages/ipykernel_launcher.py:2: DeprecationWarning: Both axis > a.ndim and axis < -a.ndim - 1 are deprecated and will raise an AxisError in the future.\n",
            "  \n"
          ],
          "name": "stderr"
        }
      ]
    },
    {
      "cell_type": "code",
      "metadata": {
        "id": "e79yYf-b8sH4",
        "colab": {
          "base_uri": "https://localhost:8080/",
          "height": 53
        },
        "outputId": "41408499-706f-48f1-b0fb-db6a9efef914"
      },
      "source": [
        "model.evaluate(X_test, y_test)"
      ],
      "execution_count": null,
      "outputs": [
        {
          "output_type": "stream",
          "text": [
            "3691/3691 [==============================] - 1s 299us/step\n"
          ],
          "name": "stdout"
        },
        {
          "output_type": "execute_result",
          "data": {
            "text/plain": [
              "[0.12487193644127527, 0.9460850717962612]"
            ]
          },
          "metadata": {
            "tags": []
          },
          "execution_count": 32
        }
      ]
    },
    {
      "cell_type": "code",
      "metadata": {
        "id": "RVOrGpdg9EyD"
      },
      "source": [
        "predict = model.predict(X_test)"
      ],
      "execution_count": null,
      "outputs": []
    },
    {
      "cell_type": "code",
      "metadata": {
        "id": "-Wh_QligCrPG"
      },
      "source": [
        "from sklearn.model_selection import validation_curve"
      ],
      "execution_count": null,
      "outputs": []
    },
    {
      "cell_type": "code",
      "metadata": {
        "id": "uI3v8usrC1GO"
      },
      "source": [
        "from sklearn.metrics import confusion_matrix"
      ],
      "execution_count": null,
      "outputs": []
    },
    {
      "cell_type": "code",
      "metadata": {
        "id": "vpVBmBxsDHco"
      },
      "source": [
        "from sklearn.metrics import classification_report"
      ],
      "execution_count": null,
      "outputs": []
    },
    {
      "cell_type": "code",
      "metadata": {
        "id": "K9Rn1_unDdat"
      },
      "source": [
        "yhat_probs = model.predict(X_test, verbose=0)"
      ],
      "execution_count": null,
      "outputs": []
    },
    {
      "cell_type": "code",
      "metadata": {
        "id": "nM7yiUKLFZJK"
      },
      "source": [
        "yhat_classes = model.predict_classes(X_test, verbose=0)"
      ],
      "execution_count": null,
      "outputs": []
    },
    {
      "cell_type": "code",
      "metadata": {
        "id": "DsfnFshcFec6",
        "colab": {
          "base_uri": "https://localhost:8080/",
          "height": 189
        },
        "outputId": "2ff383ed-6eda-417b-aa22-28f67dc7e727"
      },
      "source": [
        "# reduce to 1d array\n",
        "yhat_probs = yhat_probs[:, 0]\n",
        "yhat_classes = yhat_classes[:, 0]"
      ],
      "execution_count": null,
      "outputs": [
        {
          "output_type": "error",
          "ename": "IndexError",
          "evalue": "ignored",
          "traceback": [
            "\u001b[0;31m---------------------------------------------------------------------------\u001b[0m",
            "\u001b[0;31mIndexError\u001b[0m                                Traceback (most recent call last)",
            "\u001b[0;32m<ipython-input-47-eadc332260c8>\u001b[0m in \u001b[0;36m<module>\u001b[0;34m()\u001b[0m\n\u001b[0;32m----> 1\u001b[0;31m \u001b[0myhat_probs\u001b[0m \u001b[0;34m=\u001b[0m \u001b[0myhat_probs\u001b[0m\u001b[0;34m[\u001b[0m\u001b[0;34m:\u001b[0m\u001b[0;34m,\u001b[0m \u001b[0;36m0\u001b[0m\u001b[0;34m]\u001b[0m\u001b[0;34m\u001b[0m\u001b[0;34m\u001b[0m\u001b[0m\n\u001b[0m\u001b[1;32m      2\u001b[0m \u001b[0myhat_classes\u001b[0m \u001b[0;34m=\u001b[0m \u001b[0myhat_classes\u001b[0m\u001b[0;34m[\u001b[0m\u001b[0;34m:\u001b[0m\u001b[0;34m,\u001b[0m \u001b[0;36m0\u001b[0m\u001b[0;34m]\u001b[0m\u001b[0;34m\u001b[0m\u001b[0;34m\u001b[0m\u001b[0m\n",
            "\u001b[0;31mIndexError\u001b[0m: too many indices for array"
          ]
        }
      ]
    },
    {
      "cell_type": "code",
      "metadata": {
        "id": "EPRC79IvFlqj",
        "colab": {
          "base_uri": "https://localhost:8080/",
          "height": 35
        },
        "outputId": "1ed8d034-dde6-442a-d177-6f4d6161e89a"
      },
      "source": [
        "# accuracy: (tp + tn) / (p + n)\n",
        "accuracy = accuracy_score(y_test, yhat_classes)\n",
        "print('Accuracy: %f' % accuracy)"
      ],
      "execution_count": null,
      "outputs": [
        {
          "output_type": "stream",
          "text": [
            "Accuracy: 0.946085\n"
          ],
          "name": "stdout"
        }
      ]
    },
    {
      "cell_type": "code",
      "metadata": {
        "id": "xZwciM8vGNTN"
      },
      "source": [
        "from sklearn.metrics import precision_score"
      ],
      "execution_count": null,
      "outputs": []
    },
    {
      "cell_type": "code",
      "metadata": {
        "id": "jDGh01pqFso-",
        "colab": {
          "base_uri": "https://localhost:8080/",
          "height": 35
        },
        "outputId": "4576556b-8ec7-46e7-8a7d-1e842a56f39c"
      },
      "source": [
        "# precision tp / (tp + fp)\n",
        "precision = precision_score(y_test, yhat_classes)\n",
        "print('Precision: %f' % precision)"
      ],
      "execution_count": null,
      "outputs": [
        {
          "output_type": "stream",
          "text": [
            "Precision: 0.917582\n"
          ],
          "name": "stdout"
        }
      ]
    },
    {
      "cell_type": "code",
      "metadata": {
        "id": "aWCd9fzpGVYM"
      },
      "source": [
        "from sklearn.metrics import recall_score\n",
        "from sklearn.metrics import f1_score\n",
        "from sklearn.metrics import cohen_kappa_score\n",
        "from sklearn.metrics import roc_auc_score"
      ],
      "execution_count": null,
      "outputs": []
    },
    {
      "cell_type": "code",
      "metadata": {
        "id": "hFQuFNTfFuST",
        "colab": {
          "base_uri": "https://localhost:8080/",
          "height": 35
        },
        "outputId": "99286a62-b7e4-4226-c8df-a65d9ce63c0c"
      },
      "source": [
        "# recall: tp / (tp + fn)\n",
        "recall = recall_score(y_test, yhat_classes)\n",
        "print('Recall: %f' % recall)"
      ],
      "execution_count": null,
      "outputs": [
        {
          "output_type": "stream",
          "text": [
            "Recall: 0.827757\n"
          ],
          "name": "stdout"
        }
      ]
    },
    {
      "cell_type": "code",
      "metadata": {
        "id": "zID7gFQLFxV0",
        "colab": {
          "base_uri": "https://localhost:8080/",
          "height": 35
        },
        "outputId": "d4b25aa3-a2ab-450e-acca-4cfb7843a30b"
      },
      "source": [
        "# f1: 2 tp / (2 tp + fp + fn)\n",
        "f1 = f1_score(y_test, yhat_classes)\n",
        "print('F1 score: %f' % f1)"
      ],
      "execution_count": null,
      "outputs": [
        {
          "output_type": "stream",
          "text": [
            "F1 score: 0.870358\n"
          ],
          "name": "stdout"
        }
      ]
    },
    {
      "cell_type": "code",
      "metadata": {
        "id": "e4rSewjeGaCb",
        "colab": {
          "base_uri": "https://localhost:8080/",
          "height": 35
        },
        "outputId": "3269a381-6c30-4c0a-9687-5b85fddc3445"
      },
      "source": [
        "# kappa\n",
        "kappa = cohen_kappa_score(y_test, yhat_classes)\n",
        "print('Cohens kappa: %f' % kappa)"
      ],
      "execution_count": null,
      "outputs": [
        {
          "output_type": "stream",
          "text": [
            "Cohens kappa: 0.836437\n"
          ],
          "name": "stdout"
        }
      ]
    },
    {
      "cell_type": "code",
      "metadata": {
        "id": "by0U-IIcGh3O",
        "colab": {
          "base_uri": "https://localhost:8080/",
          "height": 35
        },
        "outputId": "0ee7dc01-06ef-4b97-8669-323fc84e76fd"
      },
      "source": [
        "# ROC AUC\n",
        "auc = roc_auc_score(y_test, yhat_probs)\n",
        "print('ROC AUC: %f' % auc)"
      ],
      "execution_count": null,
      "outputs": [
        {
          "output_type": "stream",
          "text": [
            "ROC AUC: 0.984691\n"
          ],
          "name": "stdout"
        }
      ]
    },
    {
      "cell_type": "code",
      "metadata": {
        "id": "v98g5HLrGm4V",
        "colab": {
          "base_uri": "https://localhost:8080/",
          "height": 53
        },
        "outputId": "f6eb72ee-4fa9-4013-f6e2-581acb44958c"
      },
      "source": [
        "# confusion matrix\n",
        "matrix = confusion_matrix(y_test, yhat_classes)\n",
        "print(matrix)"
      ],
      "execution_count": null,
      "outputs": [
        {
          "output_type": "stream",
          "text": [
            "[[2824   60]\n",
            " [ 139  668]]\n"
          ],
          "name": "stdout"
        }
      ]
    },
    {
      "cell_type": "code",
      "metadata": {
        "id": "eBBfYwY9GsHm",
        "colab": {
          "base_uri": "https://localhost:8080/",
          "height": 674
        },
        "outputId": "143bffa3-b56e-4017-bb4b-bf9956f318c7"
      },
      "source": [
        "import itertools\n",
        "def plot_confusion_matrix(cm, classes,\n",
        "                          normalize=False,\n",
        "                          title='Confusion matrix',\n",
        "                          cmap=plt.cm.Greens):\n",
        "    \"\"\"\n",
        "    This function prints and plots the confusion matrix.\n",
        "    Normalization can be applied by setting `normalize=True`.\n",
        "    Source: http://scikit-learn.org/stable/auto_examples/model_selection/plot_confusion_matrix.html\n",
        "    \"\"\"\n",
        "    if normalize:\n",
        "        cm = cm.astype('float') / cm.sum(axis=1)[:, np.newaxis]\n",
        "        print(\"Normalized confusion matrix\")\n",
        "    else:\n",
        "        print('Confusion matrix, without normalization')\n",
        "\n",
        "    print(cm)\n",
        "\n",
        "    # Plot the confusion matrix\n",
        "    plt.figure(figsize = (10, 10))\n",
        "    plt.imshow(cm, interpolation='nearest', cmap=cmap)\n",
        "    plt.title(title, size = 24)\n",
        "    plt.colorbar(aspect=4)\n",
        "    tick_marks = np.arange(len(classes))\n",
        "    plt.xticks(tick_marks, classes, rotation=45, size = 14)\n",
        "    plt.yticks(tick_marks, classes, size = 14)\n",
        "\n",
        "    fmt = '.2f' if normalize else 'd'\n",
        "    thresh = cm.max() / 2.\n",
        "    \n",
        "    # Labeling the plot\n",
        "    for i, j in itertools.product(range(cm.shape[0]), range(cm.shape[1])):\n",
        "        plt.text(j, i, format(cm[i, j], fmt), fontsize = 20,\n",
        "                 horizontalalignment=\"center\",\n",
        "                 color=\"white\" if cm[i, j] > thresh else \"black\")\n",
        "        plt.grid(None)\n",
        "    plt.tight_layout()\n",
        "    plt.ylabel('True label', size = 18)\n",
        "    plt.xlabel('Predicted label', size = 18)\n",
        "\n",
        "cm = confusion_matrix(y_test, yhat_classes)\n",
        "plot_confusion_matrix(cm, classes = ['Alive', 'Dead'],\n",
        "                      title = 'Stroke Mortality Confusion Matrix')"
      ],
      "execution_count": null,
      "outputs": [
        {
          "output_type": "stream",
          "text": [
            "Confusion matrix, without normalization\n",
            "[[2824   60]\n",
            " [ 139  668]]\n"
          ],
          "name": "stdout"
        },
        {
          "output_type": "display_data",
          "data": {
            "image/png": "[encoded data removed]",
            "text/plain": [
              "<Figure size 720x720 with 2 Axes>"
            ]
          },
          "metadata": {
            "tags": []
          }
        }
      ]
    },
    {
      "cell_type": "code",
      "metadata": {
        "id": "A2HcmHEQHE58",
        "colab": {
          "base_uri": "https://localhost:8080/",
          "height": 826
        },
        "outputId": "38dcfb15-6da2-477c-9af9-7d01504ee54d"
      },
      "source": [
        "from matplotlib.pyplot import figure\n",
        "figure(num=None, figsize=(16, 12), dpi=80, facecolor='w', edgecolor='k')\n",
        "#precision-recall curve\n",
        "from sklearn.metrics import precision_recall_curve\n",
        "from sklearn.metrics import f1_score\n",
        "from sklearn.metrics import auc\n",
        "\n",
        "lr_precision, lr_recall, _ = precision_recall_curve(y_test, yhat_probs)\n",
        "lr_f1, lr_auc = f1_score(y_test, yhat_classes), auc(lr_recall, lr_precision)\n",
        "# summarize scores\n",
        "print('LSTM: f1=%.3f auc=%.3f' % (lr_f1, lr_auc))\n",
        "# plot the precision-recall curves\n",
        "no_skill = len(y_test[y_test==1]) / len(y_test)\n",
        "plt.plot([0, 1], [no_skill, no_skill], linestyle='--', label='No Skill')\n",
        "plt.plot(lr_recall, lr_precision, marker='.', label='LSTM')\n",
        "# axis labels\n",
        "plt.xlabel('Recall')\n",
        "plt.ylabel('Precision')\n",
        "# show the legend\n",
        "plt.legend()"
      ],
      "execution_count": null,
      "outputs": [
        {
          "output_type": "stream",
          "text": [
            "LSTM: f1=0.870 auc=0.957\n"
          ],
          "name": "stdout"
        },
        {
          "output_type": "execute_result",
          "data": {
            "text/plain": [
              "<matplotlib.legend.Legend at 0x7ff0b68ab128>"
            ]
          },
          "metadata": {
            "tags": []
          },
          "execution_count": 63
        },
        {
          "output_type": "display_data",
          "data": {
            "image/png": "[encoded data removed]",
            "text/plain": [
              "<Figure size 1280x960 with 1 Axes>"
            ]
          },
          "metadata": {
            "tags": []
          }
        }
      ]
    },
    {
      "cell_type": "code",
      "metadata": {
        "id": "Clx_6aB3H4J8"
      },
      "source": [
        ""
      ],
      "execution_count": null,
      "outputs": []
    }
  ]
}